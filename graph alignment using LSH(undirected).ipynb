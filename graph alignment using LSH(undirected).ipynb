{
 "cells": [
  {
   "cell_type": "code",
   "execution_count": 1,
   "metadata": {
    "collapsed": false
   },
   "outputs": [],
   "source": [
    "import numpy as np\n",
    "from io_utils import loadGraph, permuteNoiseMat, writeEdgesToFile\n",
    "\n",
    "A = loadGraph('facebook/0.edges', 'u')\n",
    "\n",
    "B = permuteNoiseMat(A,is_perm=True, has_noise=False)\n",
    "\n",
    "writeEdgesToFile('metadata/B.edges', B)"
   ]
  },
  {
   "cell_type": "code",
   "execution_count": 2,
   "metadata": {
    "collapsed": false,
    "scrolled": true
   },
   "outputs": [],
   "source": [
    "from attr_utils import *\n",
    "\n",
    "attributesA = getUndirAttribute('facebook/0.edges')\n",
    "with open('metadata/attributesA', 'w') as f:\n",
    "    for index, row in attributesA.iterrows():\n",
    "        f.write(str(attributesA.ix[index]))\n",
    "\n",
    "attributesB = getUndirAttribute('metadata/B.edges')\n",
    "with open('metadata/attributesB', 'w') as f:\n",
    "    for index, row in attributesB.iterrows():\n",
    "        f.write(str(attributesB.ix[index]))"
   ]
  },
  {
   "cell_type": "code",
   "execution_count": 3,
   "metadata": {
    "collapsed": false
   },
   "outputs": [
    {
     "name": "stderr",
     "output_type": "stream",
     "text": [
      "/usr/local/lib/python2.7/site-packages/matplotlib/font_manager.py:273: UserWarning: Matplotlib is building the font cache using fc-list. This may take a moment.\n",
      "  warnings.warn('Matplotlib is building the font cache using fc-list. This may take a moment.')\n"
     ]
    },
    {
     "name": "stdout",
     "output_type": "stream",
     "text": [
      "9\n",
      "9\n",
      "[['facebook/0.edges' 236 36 ..., 3.1122314984328425 0.004900166560021472 8]\n",
      " ['facebook/0.edges' 186 43 ..., 2.892656883512734 0.005582386970586673 7]\n",
      " ['facebook/0.edges' 122 62 ..., 2.755820529287159 0.008109654553758916 7]\n",
      " ..., \n",
      " ['metadata/B.edges' 299 2 ..., 3.885516011847138 0.0011066314080781289 7]\n",
      " ['metadata/B.edges' 256 1 ..., 7.312789349078398 0.001596311374409954 11]\n",
      " ['metadata/B.edges' 317 2 ..., 4.343758686463016 0.0008481833892156252 9]]\n"
     ]
    }
   ],
   "source": [
    "from lsh_utils import *\n",
    "\n",
    "combineAB = selectAndCombine(attributesA, attributesB)\n",
    "\n",
    "bandDeg = ['Degree','PageRank']\n",
    "bucketDeg = generateCosineBuckets(selectAndCombine(attributesA, attributesB, bandDeg), 20)\n",
    "with open('metadata/buckets-band-1', 'w') as f:\n",
    "    for k, v in bucketDeg.items():\n",
    "        f.write(str(k) + str(v) + '\\n')\n",
    "print len(bucketDeg.items())\n",
    "\n",
    "bandEdge = ['NodeBetweennessCentrality','FarnessCentrality', 'NodeEccentricity']\n",
    "bucketEdge = generateCosineBuckets(selectAndCombine(attributesA, attributesB, bandEdge), 20)\n",
    "with open('metadata/buckets-band-2', 'w') as f:\n",
    "    for k, v in bucketEdge.items():\n",
    "        f.write(str(k) + str(v) + '\\n')\n",
    "print len(bucketEdge.items())\n",
    "\n",
    "buckets = [bucketDeg, bucketEdge]"
   ]
  },
  {
   "cell_type": "code",
   "execution_count": 6,
   "metadata": {
    "collapsed": false
   },
   "outputs": [
    {
     "data": {
      "image/png": "[encoded data removed]",
      "text/plain": [
       "<matplotlib.figure.Figure at 0x118c16fd0>"
      ]
     },
     "metadata": {},
     "output_type": "display_data"
    },
    {
     "data": {
      "image/png": "[encoded data removed]",
      "text/plain": [
       "<matplotlib.figure.Figure at 0x118c3b150>"
      ]
     },
     "metadata": {},
     "output_type": "display_data"
    }
   ],
   "source": [
    "pair_count_dict = combineBucketsBySum(buckets, combineAB, 'facebook/0.edges')\n",
    "            \n",
    "import matplotlib.pyplot as plt\n",
    "plt.subplot(211)\n",
    "plotBucketDistribution(bucketDeg)\n",
    "plt.subplot(212)\n",
    "plotBucketDistribution(bucketEdge)\n",
    "plt.show()"
   ]
  },
  {
   "cell_type": "code",
   "execution_count": 7,
   "metadata": {
    "collapsed": false
   },
   "outputs": [],
   "source": [
    "matching_matrix = computeMatchingMat(attributesA, attributesB, pair_count_dict)\n",
    "sim_matrix = computeWholeSimMat(attributesA, attributesB)"
   ]
  },
  {
   "cell_type": "code",
   "execution_count": 8,
   "metadata": {
    "collapsed": false
   },
   "outputs": [
    {
     "name": "stdout",
     "output_type": "stream",
     "text": [
      "cos sim top 5 for node 236:\n",
      "[219 307 215 297 331]\n",
      "matching top 5 for node 236:\n",
      "[127 219 307 215 297]\n",
      "cos sim top 5 for node 130:\n",
      "[128  74 140 111 132]\n",
      "matching top 5 for node 130:\n",
      "[162  74 111 140 132]\n",
      "cos sim top 5 for node 280:\n",
      "[321 293 200 340 280]\n",
      "matching top 5 for node 280:\n",
      "[200 340  75 160 280]\n",
      "cos sim top 5 for node 119:\n",
      "[276 110 180  13 217]\n",
      "matching top 5 for node 119:\n",
      "[133 110 180  13 217]\n"
     ]
    }
   ],
   "source": [
    "show_list = [0, 10, 20, 50]\n",
    "top_k = 5\n",
    "for i in show_list:\n",
    "    print \"cos sim top %d for node %d:\" %(top_k, attributesA['Id'][i])\n",
    "    print attributesB['Id'][sim_matrix[i].argsort()[-top_k:]].values\n",
    "    print \"matching top %d for node %d:\"%(top_k, attributesA['Id'][i])\n",
    "    print attributesB['Id'][matching_matrix[i].argsort()[-top_k:]].values\n"
   ]
  },
  {
   "cell_type": "code",
   "execution_count": null,
   "metadata": {
    "collapsed": false
   },
   "outputs": [],
   "source": [
    "bandDeg = ['Degree','PageRank']\n",
    "bucketDeg = generateEuclideanBuckets(selectAndCombine(attributesA, attributesB, bandDeg), 2)\n",
    "with open('metadata/euc-buckets-band-1', 'w') as f:\n",
    "    for k, v in bucketDeg.items():\n",
    "        f.write(str(k) + str(v) + '\\n')\n",
    "print len(bucketDeg.items())\n",
    "\n",
    "bandEdge = ['NodeBetweennessCentrality','FarnessCentrality', 'NodeEccentricity']\n",
    "bucketEdge = generateEuclideanBuckets(selectAndCombine(attributesA, attributesB, bandEdge), 2)\n",
    "with open('metadata/euc-buckets-band-2', 'w') as f:\n",
    "    for k, v in bucketEdge.items():\n",
    "        f.write(str(k) + str(v) + '\\n')\n",
    "print len(bucketEdge.items())"
   ]
  },
  {
   "cell_type": "code",
   "execution_count": null,
   "metadata": {
    "collapsed": true
   },
   "outputs": [],
   "source": []
  }
 ],
 "metadata": {
  "anaconda-cloud": {},
  "kernelspec": {
   "display_name": "Python 2",
   "language": "python",
   "name": "python2"
  },
  "language_info": {
   "codemirror_mode": {
    "name": "ipython",
    "version": 2
   },
   "file_extension": ".py",
   "mimetype": "text/x-python",
   "name": "python",
   "nbconvert_exporter": "python",
   "pygments_lexer": "ipython2",
   "version": "2.7.12"
  }
 },
 "nbformat": 4,
 "nbformat_minor": 0
}
