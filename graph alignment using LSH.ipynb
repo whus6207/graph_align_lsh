{
 "cells": [
  {
   "cell_type": "code",
   "execution_count": 4,
   "metadata": {
    "collapsed": false
   },
   "outputs": [
    {
     "name": "stdout",
     "output_type": "stream",
     "text": [
      "[ 0.25        0.25        0.1875      0.2         0.25        0.33333333\n",
      "  0.25        0.25      ]\n",
      "[ 0.2         0.25        0.22222222  0.25        0.25        0.25        0.1875\n",
      "  0.25        0.33333333]\n",
      "(8, 8)\n"
     ]
    }
   ],
   "source": [
    "import numpy as np\n",
    "\n",
    "A = np.array([[0,0,2,0,0,0,0,0],\n",
    "              [0,0,3,0,0,0,0,0],\n",
    "              [0,0,0,4,0,0,0,0],\n",
    "              [0,0,0,0,5,1,8,0],\n",
    "              [0,0,0,0,0,0,0,0],\n",
    "              [0,0,0,0,0,0,2,0],\n",
    "              [0,0,0,0,0,0,0,5],\n",
    "              [0,0,0,0,0,0,0,0]\n",
    "             ])\n",
    "\n",
    "B = np.array([\n",
    "        [0,0,0,0,4,0,0,7,2],\n",
    "        [0,0,0,0,0,0,0,0,0],\n",
    "        [0,1,0,0,0,0,3,0,0],\n",
    "        [0,0,0,0,0,0,0,0,0],\n",
    "        [0,0,0,0,0,0,0,0,0],\n",
    "        [0,0,0,0,0,0,2,0,0],\n",
    "        [2,0,0,0,0,0,0,0,0],\n",
    "        [0,0,0,5,0,0,0,0,0],\n",
    "        [0,0,0,0,0,0,0,3,0]\n",
    "    ])\n",
    "\n",
    "A_in_w = np.sum(A, axis=0)\n",
    "A_out_w = np.sum(A, axis=1)\n",
    "B_in_w = np.sum(B, axis=0)\n",
    "B_out_w = np.sum(B, axis=1)\n",
    "\n",
    "A_in = np.sum(A>0, axis=0)\n",
    "A_out = np.sum(A>0, axis=1)\n",
    "B_in = np.sum(B>0, axis=0)\n",
    "B_out = np.sum(B>0, axis=1)\n",
    "\n",
    "# 0 => peripheral, 1 => bridge, 2 => center\n",
    "A_role = np.array([0,0,1,2,0,0,0,0])\n",
    "B_role = np.array([2,0,0,0,0,0,1,0,0])\n",
    "\n",
    "\n",
    "def ego_connectivity(G):\n",
    "    ego_conn = np.zeros((G.shape[0]))\n",
    "    for i in range(G.shape[0]):\n",
    "        ego_i = (G[i] | G.T[i])>0\n",
    "        ego_i[i] = True\n",
    "        ego_net = G[ego_i].T[ego_i]\n",
    "        ego_conn[i] = np.sum(ego_net > 0)/float(ego_net.shape[0]**2)\n",
    "    return ego_conn\n",
    "\n",
    "\n",
    "A_ego_conn = ego_connectivity(A);\n",
    "B_ego_conn = ego_connectivity(B);\n",
    "print(A_ego_conn)\n",
    "print(B_ego_conn)\n",
    "\n",
    "A_feature = np.array([A_in, A_out, A_in_w, A_out_w, A_ego_conn])\n",
    "print(A.shape)"
   ]
  },
  {
   "cell_type": "code",
   "execution_count": 25,
   "metadata": {
    "collapsed": false
   },
   "outputs": [
    {
     "name": "stdout",
     "output_type": "stream",
     "text": [
      "[ 0.  0.  0.  0.  0.  0.  0.  1.  0.  0.  0.  0.  0.  0.  1.  0.  0.  0.\n",
      "  0.  0.  0.  0.  0.  0.  0.  0.  0.  0.  0.  0.  0.  0.  0.  0.  1.  0.\n",
      "  0.  0.  0.  0.  0.  0.  0.  0.  0.  0.  0.  0.  0.  0.  1.  0.  0.  1.\n",
      "  0.  1.  0.  0.  0.  1.  0.  0.  0.  0.  0.  1.  0.  0.  0.  0.  0.  0.\n",
      "  0.  0.  0.  0.  0.  0.  1.  0.  0.  0.  0.  0.  0.  0.  0.  0.  0.  0.\n",
      "  0.  0.  1.  0.  0.  0.  0.  0.  0.  0.  0.  0.  0.  0.  0.  0.  0.  0.\n",
      "  0.  0.  0.  0.  0.  0.  0.  0.  0.  0.  0.  0.  0.  0.  0.  0.  0.  0.\n",
      "  0.  1.  0.  0.  0.  0.  0.  0.  0.  0.  0.  0.  1.  0.  0.  0.  0.  0.\n",
      "  0.  0.  0.  0.  0.  0.  0.  0.  0.  0.  0.  0.  0.  0.  0.  0.  0.  0.\n",
      "  0.  0.  0.  0.  0.  0.  0.  0.  0.  1.  0.  1.  0.  0.  0.  0.  0.  0.\n",
      "  0.  0.  0.  0.  0.  1.  0.  0.  0.  0.  0.  0.  0.  0.  0.  0.  0.  0.\n",
      "  0.  0.  0.  0.  0.  0.  0.  0.  0.  0.  0.  0.  1.  0.  0.  0.  0.  0.\n",
      "  0.  1.  0.  0.  0.  0.  0.  0.]\n"
     ]
    }
   ],
   "source": [
    "# produce graph A\n",
    "import numpy as np\n",
    "nodes = []\n",
    "with open('facebook/0.edges') as f:\n",
    "    for line in f:\n",
    "        pair = line.strip().split()\n",
    "        if int(pair[0]) == int(pair[1]):\n",
    "            print(\"hey\\n\")\n",
    "        nodes.append(int(pair[0]))\n",
    "        nodes.append(int(pair[1]))\n",
    "    \n",
    "A_size = max(nodes)+1\n",
    "A = np.zeros((A_size,A_size))\n",
    "\n",
    "for i in range(0,len(nodes)-2,2):\n",
    "    A[nodes[i]][nodes[i+1]]=1\n",
    "    A[nodes[i+1]][nodes[i]]=1\n",
    "    \n",
    "A[0,:]=1\n",
    "A[:,0]=1\n",
    "A[0,0]=0\n",
    "\n",
    "A_feats = np.zeros((A_size, 224))\n",
    "\n",
    "with open('facebook/0.feat') as f:\n",
    "    for line in f:\n",
    "        feats = line.strip().split()\n",
    "        A_feats[int(feats[0])] = feats[1:]\n",
    "        \n",
    "print(A_feats[3])"
   ]
  },
  {
   "cell_type": "code",
   "execution_count": 16,
   "metadata": {
    "collapsed": false
   },
   "outputs": [
    {
     "name": "stdout",
     "output_type": "stream",
     "text": [
      "noise edges: 116.0\n"
     ]
    }
   ],
   "source": [
    "# produce permuted B with noise\n",
    "perm = np.random.permutation(len(A))\n",
    "\n",
    "P = np.identity(len(A))\n",
    "P = P[perm]\n",
    "\n",
    "B = P.dot(A).dot(P.T)\n",
    "noise = np.random.choice([0, 1], size=(len(A),len(A)), p=[99.9/100, 0.1/100])\n",
    "B = (B + noise)%2\n",
    "\n",
    "print(\"noise edges: \" + str(np.sum(np.abs(A-P.T.dot(B).dot(P))[:])))"
   ]
  },
  {
   "cell_type": "code",
   "execution_count": 2,
   "metadata": {
    "collapsed": false
   },
   "outputs": [
    {
     "ename": "ImportError",
     "evalue": "dlopen(/usr/local/lib/python2.7/site-packages/graph_tool/libgraph_tool_core.so, 8): Symbol not found: __ZNK5boost16re_detail_10610031cpp_regex_traits_implementationIcE17transform_primaryEPKcS4_\n  Referenced from: /usr/local/lib/python2.7/site-packages/graph_tool/libgraph_tool_core.so\n  Expected in: /usr/local/opt/boost/lib/libboost_regex-mt.dylib\n in /usr/local/lib/python2.7/site-packages/graph_tool/libgraph_tool_core.so",
     "output_type": "error",
     "traceback": [
      "\u001b[0;31m---------------------------------------------------------------------------\u001b[0m",
      "\u001b[0;31mImportError\u001b[0m                               Traceback (most recent call last)",
      "\u001b[0;32m<ipython-input-2-ccddfdf972bf>\u001b[0m in \u001b[0;36m<module>\u001b[0;34m()\u001b[0m\n\u001b[0;32m----> 1\u001b[0;31m \u001b[0;32mfrom\u001b[0m \u001b[0mgraph_tool\u001b[0m\u001b[0;34m.\u001b[0m\u001b[0mall\u001b[0m \u001b[0;32mimport\u001b[0m \u001b[0;34m*\u001b[0m\u001b[0;34m\u001b[0m\u001b[0m\n\u001b[0m\u001b[1;32m      2\u001b[0m \u001b[0;34m\u001b[0m\u001b[0m\n",
      "\u001b[0;32m/usr/local/lib/python2.7/site-packages/graph_tool/__init__.py\u001b[0m in \u001b[0;36m<module>\u001b[0;34m()\u001b[0m\n\u001b[1;32m    104\u001b[0m \u001b[0;34m\u001b[0m\u001b[0m\n\u001b[1;32m    105\u001b[0m \u001b[0;32mfrom\u001b[0m \u001b[0;34m.\u001b[0m\u001b[0mdl_import\u001b[0m \u001b[0;32mimport\u001b[0m \u001b[0;34m*\u001b[0m\u001b[0;34m\u001b[0m\u001b[0m\n\u001b[0;32m--> 106\u001b[0;31m \u001b[0mdl_import\u001b[0m\u001b[0;34m(\u001b[0m\u001b[0;34m\"from . import libgraph_tool_core as libcore\"\u001b[0m\u001b[0;34m)\u001b[0m\u001b[0;34m\u001b[0m\u001b[0m\n\u001b[0m\u001b[1;32m    107\u001b[0m \u001b[0m__version__\u001b[0m \u001b[0;34m=\u001b[0m \u001b[0mlibcore\u001b[0m\u001b[0;34m.\u001b[0m\u001b[0mmod_info\u001b[0m\u001b[0;34m(\u001b[0m\u001b[0;34m)\u001b[0m\u001b[0;34m.\u001b[0m\u001b[0mversion\u001b[0m\u001b[0;34m\u001b[0m\u001b[0m\n\u001b[1;32m    108\u001b[0m \u001b[0;34m\u001b[0m\u001b[0m\n",
      "\u001b[0;32m/usr/local/lib/python2.7/site-packages/graph_tool/dl_import.pyc\u001b[0m in \u001b[0;36mdl_import\u001b[0;34m(import_expr)\u001b[0m\n\u001b[1;32m     55\u001b[0m \u001b[0;34m\u001b[0m\u001b[0m\n\u001b[1;32m     56\u001b[0m     \u001b[0;32mtry\u001b[0m\u001b[0;34m:\u001b[0m\u001b[0;34m\u001b[0m\u001b[0m\n\u001b[0;32m---> 57\u001b[0;31m         \u001b[0;32mexec\u001b[0m\u001b[0;34m(\u001b[0m\u001b[0mimport_expr\u001b[0m\u001b[0;34m,\u001b[0m \u001b[0mlocal_dict\u001b[0m\u001b[0;34m,\u001b[0m \u001b[0mglobal_dict\u001b[0m\u001b[0;34m)\u001b[0m\u001b[0;34m\u001b[0m\u001b[0m\n\u001b[0m\u001b[1;32m     58\u001b[0m     \u001b[0;32mfinally\u001b[0m\u001b[0;34m:\u001b[0m\u001b[0;34m\u001b[0m\u001b[0m\n\u001b[1;32m     59\u001b[0m         \u001b[0msys\u001b[0m\u001b[0;34m.\u001b[0m\u001b[0msetdlopenflags\u001b[0m\u001b[0;34m(\u001b[0m\u001b[0morig_dlopen_flags\u001b[0m\u001b[0;34m)\u001b[0m  \u001b[0;31m# reset it to normal case to\u001b[0m\u001b[0;34m\u001b[0m\u001b[0m\n",
      "\u001b[0;32m<string>\u001b[0m in \u001b[0;36m<module>\u001b[0;34m()\u001b[0m\n",
      "\u001b[0;31mImportError\u001b[0m: dlopen(/usr/local/lib/python2.7/site-packages/graph_tool/libgraph_tool_core.so, 8): Symbol not found: __ZNK5boost16re_detail_10610031cpp_regex_traits_implementationIcE17transform_primaryEPKcS4_\n  Referenced from: /usr/local/lib/python2.7/site-packages/graph_tool/libgraph_tool_core.so\n  Expected in: /usr/local/opt/boost/lib/libboost_regex-mt.dylib\n in /usr/local/lib/python2.7/site-packages/graph_tool/libgraph_tool_core.so"
     ]
    }
   ],
   "source": [
    "from graph_tool.all import *\n",
    "\n"
   ]
  },
  {
   "cell_type": "code",
   "execution_count": null,
   "metadata": {
    "collapsed": true
   },
   "outputs": [],
   "source": []
  }
 ],
 "metadata": {
  "anaconda-cloud": {},
  "kernelspec": {
   "display_name": "Python 2",
   "language": "python",
   "name": "python2"
  },
  "language_info": {
   "codemirror_mode": {
    "name": "ipython",
    "version": 2
   },
   "file_extension": ".py",
   "mimetype": "text/x-python",
   "name": "python",
   "nbconvert_exporter": "python",
   "pygments_lexer": "ipython2",
   "version": "2.7.12"
  }
 },
 "nbformat": 4,
 "nbformat_minor": 0
}
