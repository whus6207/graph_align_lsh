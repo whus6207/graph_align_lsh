{
 "cells": [
  {
   "cell_type": "code",
   "execution_count": 2,
   "metadata": {
    "collapsed": false
   },
   "outputs": [
    {
     "name": "stdout",
     "output_type": "stream",
     "text": [
      "348\n"
     ]
    }
   ],
   "source": [
    "# produce graph A\n",
    "\n",
    "import numpy as np\n",
    "nodes = []\n",
    "with open('facebook/0.edges') as f:\n",
    "    for line in f:\n",
    "        pair = line.strip().split()\n",
    "        if int(pair[0]) == int(pair[1]):\n",
    "            print(\"hey\\n\")\n",
    "        nodes.append(int(pair[0]))\n",
    "        nodes.append(int(pair[1]))\n",
    "    \n",
    "A_size = max(nodes)+1\n",
    "A = np.zeros((A_size,A_size))\n",
    "\n",
    "\n",
    "\n",
    "for i in range(0,len(nodes),2):\n",
    "    A[nodes[i]][nodes[i+1]]=1\n",
    "    A[nodes[i+1]][nodes[i]]=1\n",
    "\n",
    "print(len(A))\n",
    "    \n",
    "A[0,:]=1\n",
    "A[:,0]=1\n",
    "A[0,0]=0\n"
   ]
  },
  {
   "cell_type": "code",
   "execution_count": 3,
   "metadata": {
    "collapsed": false
   },
   "outputs": [],
   "source": [
    "# produce permuted B with noise\n",
    "def permutation(A):\n",
    "\n",
    "    perm = np.random.permutation(len(A))\n",
    "\n",
    "# Compare with zero columns and rows ??\n",
    "\n",
    "    P = np.identity(len(A))\n",
    "    P = P[perm]\n",
    "\n",
    "    B = P.dot(A).dot(P.T)\n",
    "\n",
    "    noise = np.random.choice([0, 1], size=(len(A),len(A)), p=[99.9/100, 0.1/100])\n",
    "\n",
    "    B = (B + noise + noise.T)%2\n",
    "\n",
    "    print(\"noise edges: \" + str(np.sum(np.abs(A-P.T.dot(B).dot(P))[:])))\n",
    "    \n",
    "    return B\n"
   ]
  },
  {
   "cell_type": "code",
   "execution_count": 4,
   "metadata": {
    "collapsed": false
   },
   "outputs": [
    {
     "name": "stdout",
     "output_type": "stream",
     "text": [
      "857\n",
      "No connections nodes:\n",
      "358\n",
      "447\n",
      "550\n",
      "585\n",
      "602\n",
      "607\n",
      "608\n",
      "613\n",
      "624\n",
      "638\n",
      "668\n",
      "674\n",
      "686\n",
      "692\n",
      "801\n"
     ]
    }
   ],
   "source": [
    "# Try contructing bigger graph\n",
    "\n",
    "\n",
    "nodes2 = []\n",
    "\n",
    "\n",
    "\n",
    "with open('facebook/0.edges') as f1, open('facebook/348.edges') as f2, open('facebook/414.edges') as f3, open('facebook/686.edges') as f4:\n",
    "    for line in f1:\n",
    "        pair = line.strip().split()\n",
    "        if int(pair[0]) == int(pair[1]):\n",
    "            print(\"hey\\n\")\n",
    "        nodes2.append(int(pair[0]))\n",
    "        nodes2.append(int(pair[1]))\n",
    "    for line in f2:\n",
    "        pair = line.strip().split()\n",
    "        if int(pair[0]) == int(pair[1]):\n",
    "            print(\"hey\\n\")\n",
    "        nodes2.append(int(pair[0]))\n",
    "        nodes2.append(int(pair[1]))\n",
    "    for line in f3:\n",
    "        pair = line.strip().split()\n",
    "        if int(pair[0]) == int(pair[1]):\n",
    "            print(\"hey\\n\")\n",
    "        nodes2.append(int(pair[0]))\n",
    "        nodes2.append(int(pair[1]))\n",
    "    for line in f4:\n",
    "        pair = line.strip().split()\n",
    "        if int(pair[0]) == int(pair[1]):\n",
    "            print(\"hey\\n\")\n",
    "        nodes2.append(int(pair[0]))\n",
    "        nodes2.append(int(pair[1]))\n",
    "\n",
    "A2_size = max(nodes2) + 1\n",
    "print(A2_size)\n",
    "A2 = np.zeros((A2_size, A2_size))\n",
    "\n",
    "for i in range(0, len(nodes2), 2):\n",
    "    A2[nodes2[i]][nodes2[i+1]]=1\n",
    "    A2[nodes2[i+1]][nodes2[i]]=1\n",
    "\n",
    "    \n",
    "# Add edges to node 0\n",
    "\n",
    "A2[:348, 0] = 1\n",
    "A2[0, :348] = 1\n",
    "A2[0, 0] = 0\n",
    "\n",
    "\n",
    "print('No connections nodes:')\n",
    "for i in range(0, A2.shape[0]):\n",
    "    if sum(A2[i, :]) == 0:\n",
    "        print(i)\n",
    "\n",
    "\n"
   ]
  },
  {
   "cell_type": "code",
   "execution_count": 5,
   "metadata": {
    "collapsed": false
   },
   "outputs": [
    {
     "name": "stdout",
     "output_type": "stream",
     "text": [
      "(500, 500)\n"
     ]
    }
   ],
   "source": [
    "# Produce different size S1, S2\n",
    "\n",
    "perm_node = np.random.permutation(A2.shape[0])\n",
    "#perm_feature = np.random.permutation(A2.shape[1])\n",
    "\n",
    "node_size = 500\n",
    "#feature_size = 200\n",
    "\n",
    "S1 = A2[perm_node[:node_size], :][:, perm_node[:node_size]]\n",
    "\n",
    "\n",
    "\n",
    "print(S1.shape)\n",
    "\n",
    "\n"
   ]
  },
  {
   "cell_type": "code",
   "execution_count": 6,
   "metadata": {
    "collapsed": true
   },
   "outputs": [],
   "source": [
    "# Multiple graphs\n",
    "\n",
    "M1 = A2[:280, :]\n",
    "M2 = A2[280:560, :]\n",
    "M3 = A2[560:840, :]"
   ]
  },
  {
   "cell_type": "code",
   "execution_count": 7,
   "metadata": {
    "collapsed": false
   },
   "outputs": [
    {
     "name": "stdout",
     "output_type": "stream",
     "text": [
      "(857, 224)\n"
     ]
    }
   ],
   "source": [
    "# Node Features\n",
    "# Nodes Overlapping \n",
    "A2_feats = np.zeros((A2_size, 224))\n",
    "\n",
    "with open('facebook/0.feat') as f1:\n",
    "    for line in f1:\n",
    "        feats = line.strip().split()\n",
    "        A2_feats[int(feats[0])] = feats[1:]\n",
    "\n",
    "print(A2_feats.shape)"
   ]
  },
  {
   "cell_type": "code",
   "execution_count": 69,
   "metadata": {
    "collapsed": false
   },
   "outputs": [
    {
     "name": "stdout",
     "output_type": "stream",
     "text": [
      "noise edges: 228.0\n",
      "noise edges: 1372.0\n"
     ]
    },
    {
     "data": {
      "text/plain": [
       "array([[ 0.,  0.,  0., ...,  0.,  0.,  0.],\n",
       "       [ 0.,  0.,  0., ...,  0.,  0.,  0.],\n",
       "       [ 0.,  0.,  0., ...,  0.,  0.,  0.],\n",
       "       ..., \n",
       "       [ 0.,  0.,  0., ...,  0.,  0.,  0.],\n",
       "       [ 0.,  0.,  0., ...,  0.,  0.,  0.],\n",
       "       [ 0.,  0.,  0., ...,  0.,  0.,  0.]])"
      ]
     },
     "execution_count": 69,
     "metadata": {},
     "output_type": "execute_result"
    }
   ],
   "source": [
    "# Permutation\n",
    "\n",
    "permutation(A)\n",
    "permutation(A2)"
   ]
  },
  {
   "cell_type": "code",
   "execution_count": 9,
   "metadata": {
    "collapsed": false
   },
   "outputs": [
    {
     "name": "stdout",
     "output_type": "stream",
     "text": [
      "[[1, 3, 0, 1], [0, 2, 0, 0]]\n"
     ]
    }
   ],
   "source": [
    "def minhash(data, hashfuncs):\n",
    "    '''\n",
    "        see mining-of-massive-datasets.pdf ch3 minhash for detail\n",
    "    '''\n",
    "\n",
    "    #DEBUG = True\n",
    "    DEBUG = False\n",
    "\n",
    "    rows, cols, sigrows = len(data), len(data[0]), len(hashfuncs)\n",
    "\n",
    "    # fucking the shadow copy\n",
    "    # sigmatrix = [[1000000] * cols] * sigrows\n",
    "    sigmatrix = []\n",
    "    for i in range(sigrows):\n",
    "        sigmatrix.append([1000000] * cols)\n",
    "\n",
    "    for r in range(rows):\n",
    "        hashvalue = list(map(lambda x: x(r), hashfuncs))\n",
    "        if DEBUG: print(hashvalue)\n",
    "        for c in range(cols):\n",
    "            if DEBUG: print('-' * 2, r, c)\n",
    "            if data[r][c] == 0:\n",
    "                continue\n",
    "            for i in range(sigrows):\n",
    "                if DEBUG: print('-' * 4, i, sigmatrix[i][c], hashvalue[i])\n",
    "                if sigmatrix[i][c] > hashvalue[i]:\n",
    "                    sigmatrix[i][c] = hashvalue[i]\n",
    "                if DEBUG: print('-' * 4, sigmatrix)\n",
    "\n",
    "        if DEBUG:\n",
    "            for xxxxxxx in sigmatrix:\n",
    "                print(xxxxxxx)\n",
    "            print('=' * 30)\n",
    "\n",
    "    return sigmatrix\n",
    "\n",
    "\n",
    "\n",
    "\n",
    "\n",
    "if __name__ == '__main__':\n",
    "    def hash1(x):\n",
    "        return (x + 1) % 5\n",
    "\n",
    "    def hash2(x):\n",
    "        return (3 * x + 1) % 5\n",
    "\n",
    "    data = [[1, 0, 0, 1],\n",
    "            [0, 0, 1, 0],\n",
    "            [0, 1, 0, 1],\n",
    "            [1, 0, 1, 1],\n",
    "            [0, 0, 1, 0]]\n",
    "\n",
    "    print(minhash(data, [hash1, hash2]))"
   ]
  },
  {
   "cell_type": "code",
   "execution_count": 37,
   "metadata": {
    "collapsed": false
   },
   "outputs": [
    {
     "name": "stdout",
     "output_type": "stream",
     "text": [
      "(348, 224)\n"
     ]
    }
   ],
   "source": [
    "import collections\n",
    "\n",
    "hashdata = []\n",
    "\n",
    "print(A_feats.shape)\n",
    "\n",
    "for i in range(0, A_feats.shape[1]):\n",
    "    hashdata.append(A_feats[:, i].tolist())\n",
    "\n",
    "def hash3(x):\n",
    "    return (500 * x + 300) % 573\n",
    "def hash4(x):\n",
    "    return (300* x + 100) % 573\n",
    "table = minhash(hashdata, [hash3, hash4])\n",
    "\n",
    "similar =[]\n",
    "K=[]\n",
    "for i in range(len(table[0])):\n",
    "    K.append((table[0][i], table[1][i])) \n",
    "        \n",
    "\n",
    "\n",
    "somelist = K\n",
    "dups = collections.defaultdict(list)\n",
    "for index, item in enumerate(somelist):\n",
    "    dups[item].append(index)\n",
    "\n"
   ]
  },
  {
   "cell_type": "code",
   "execution_count": null,
   "metadata": {
    "collapsed": true
   },
   "outputs": [],
   "source": []
  },
  {
   "cell_type": "code",
   "execution_count": null,
   "metadata": {
    "collapsed": true
   },
   "outputs": [],
   "source": []
  }
 ],
 "metadata": {
  "anaconda-cloud": {},
  "kernelspec": {
   "display_name": "Python 3",
   "language": "python",
   "name": "python3"
  },
  "language_info": {
   "codemirror_mode": {
    "name": "ipython",
    "version": 3
   },
   "file_extension": ".py",
   "mimetype": "text/x-python",
   "name": "python",
   "nbconvert_exporter": "python",
   "pygments_lexer": "ipython3",
   "version": "3.5.1"
  }
 },
 "nbformat": 4,
 "nbformat_minor": 0
}
