{
 "cells": [
  {
   "cell_type": "code",
   "execution_count": 1,
   "metadata": {
    "collapsed": false
   },
   "outputs": [],
   "source": [
    "import numpy as np\n",
    "from io_utils import loadGraph, permuteNoiseMat, writeEdgesToFile\n",
    "\n",
    "A = loadGraph('metadata/phys.edges', 'd')\n",
    "\n",
    "B = permuteNoiseMat(A,is_perm=True, has_noise=False)\n",
    "\n",
    "writeEdgesToFile('metadata/phys-perm.edges', B)"
   ]
  },
  {
   "cell_type": "code",
   "execution_count": 2,
   "metadata": {
    "collapsed": false,
    "scrolled": true
   },
   "outputs": [],
   "source": [
    "from attr_utils import *\n",
    "\n",
    "attributesA = getDirAttribute('metadata/phys.edges')\n",
    "with open('metadata/attributesA', 'w') as f:\n",
    "    for index, row in attributesA.iterrows():\n",
    "        f.write(str(attributesA.ix[index]))\n",
    "\n",
    "attributesB = getDirAttribute('metadata/phys-perm.edges')\n",
    "with open('metadata/attributesB', 'w') as f:\n",
    "    for index, row in attributesB.iterrows():\n",
    "        f.write(str(attributesB.ix[index]))"
   ]
  },
  {
   "cell_type": "code",
   "execution_count": 5,
   "metadata": {
    "collapsed": false
   },
   "outputs": [
    {
     "name": "stdout",
     "output_type": "stream",
     "text": [
      "9\n",
      "22\n",
      "42\n",
      "[['metadata/phys.edges' 1 0.029045643153526972 ..., 0.007673405358764931\n",
      "  0.0012544408796638703 7.0]\n",
      " ['metadata/phys.edges' 2 0.03734439834024896 ..., 0.021185872006141936\n",
      "  0.003325594603906599 7.0]\n",
      " ['metadata/phys.edges' 3 0.04564315352697095 ..., 0.017190695982055682\n",
      "  0.005777803268066879 6.0]\n",
      " ..., \n",
      " ['metadata/phys-perm.edges' 239 0.14107883817427386 ...,\n",
      "  0.20591085665318698 0.5780647887843434 4.0]\n",
      " ['metadata/phys-perm.edges' 240 0.06639004149377593 ...,\n",
      "  0.016652411816829988 0.02697772529362996 8.0]\n",
      " ['metadata/phys-perm.edges' 241 0.012448132780082987 ..., 0.0\n",
      "  0.005339278406744424 0.0]]\n"
     ]
    }
   ],
   "source": [
    "from lsh_utils import *\n",
    "\n",
    "combineAB = selectAndCombine(attributesA, attributesB)\n",
    "\n",
    "bandDeg = ['Degree','InDegree','OutDegree']\n",
    "bucketDeg = generateCosineBuckets(selectAndCombine(attributesA, attributesB, bandDeg), 20)\n",
    "with open('metadata/buckets-band-1', 'w') as f:\n",
    "    for k, v in bucketDeg.items():\n",
    "        f.write(str(k) + str(v) + '\\n')\n",
    "print len(bucketDeg.items())\n",
    "\n",
    "bandEdge = ['NodeBetweennessCentrality','FarnessCentrality', 'NodeEccentricity']\n",
    "bucketEdge = generateCosineBuckets(selectAndCombine(attributesA, attributesB, bandEdge), 20)\n",
    "with open('metadata/buckets-band-2', 'w') as f:\n",
    "    for k, v in bucketEdge.items():\n",
    "        f.write(str(k) + str(v) + '\\n')\n",
    "print len(bucketEdge.items())\n",
    "\n",
    "bandScore = ['PageRank', 'HubsScore', 'AuthoritiesScore']\n",
    "bucketScore = generateCosineBuckets(selectAndCombine(attributesA, attributesB, bandScore), 20)\n",
    "with open('metadata/buckets-band-3', 'w') as f:\n",
    "    for k, v in bucketScore.items():\n",
    "        f.write(str(k) + str(v) + '\\n')\n",
    "print len(bucketScore.items())\n",
    "\n",
    "#band4 = ['Degree', 'NodeBetweennessCentrality','FarnessCentrality', 'NodeEccentricity']\n",
    "#bucket4 = generateBuckets(selectAndCombine(attributesA, attributesB, band4), 20)\n",
    "#with open('metadata/buckets-band-4', 'w') as f:\n",
    "#    for k, v in bucket4.items():\n",
    "#        f.write(str(k) + str(v) + '\\n')\n",
    "#print len(bucket4.items())\n",
    "\n",
    "#band5 = ['InDegree','OutDegree','PageRank', 'HubsScore', 'AuthoritiesScore']\n",
    "#bucket5 = generateBuckets(selectAndCombine(attributesA, attributesB, band5), 20)\n",
    "#with open('metadata/buckets-band-5', 'w') as f:\n",
    "#    for k, v in bucket5.items():\n",
    "#        f.write(str(k) + str(v) + '\\n')\n",
    "#print len(bucket5.items())\n",
    "\n",
    "buckets = [bucketDeg, bucketEdge, bucketScore]\n",
    "\n",
    "print combineAB"
   ]
  },
  {
   "cell_type": "code",
   "execution_count": 4,
   "metadata": {
    "collapsed": false
   },
   "outputs": [
    {
     "data": {
      "image/png": "[encoded data removed]",
      "text/plain": [
       "<matplotlib.figure.Figure at 0x1052eafd0>"
      ]
     },
     "metadata": {},
     "output_type": "display_data"
    },
    {
     "data": {
      "image/png": "[encoded data removed]",
      "text/plain": [
       "<matplotlib.figure.Figure at 0x11784ea50>"
      ]
     },
     "metadata": {},
     "output_type": "display_data"
    },
    {
     "data": {
      "image/png": "[encoded data removed]",
      "text/plain": [
       "<matplotlib.figure.Figure at 0x1176e28d0>"
      ]
     },
     "metadata": {},
     "output_type": "display_data"
    }
   ],
   "source": [
    "pair_count_dict = combineBucketsBySum(buckets, combineAB, 'metadata/phys.edges')\n",
    "            \n",
    "import matplotlib.pyplot as plt\n",
    "plt.subplot(311)\n",
    "plotBucketDistribution(bucketDeg)\n",
    "plt.subplot(312)\n",
    "plotBucketDistribution(bucketEdge)\n",
    "plt.subplot(313)\n",
    "plotBucketDistribution(bucketScore)\n",
    "plt.show()"
   ]
  },
  {
   "cell_type": "code",
   "execution_count": 5,
   "metadata": {
    "collapsed": false
   },
   "outputs": [],
   "source": [
    "matching_matrix = computeMatchingMat(attributesA, attributesB, pair_count_dict)\n",
    "sim_matrix = computeWholeSimMat(attributesA, attributesB)"
   ]
  },
  {
   "cell_type": "code",
   "execution_count": 6,
   "metadata": {
    "collapsed": false
   },
   "outputs": [
    {
     "name": "stdout",
     "output_type": "stream",
     "text": [
      "cos sim top 5 for node 1:\n",
      "[85  6 62 20 21]\n",
      "matching top 5 for node 1:\n",
      "[ 20 217  63  70  21]\n",
      "cos sim top 5 for node 11:\n",
      "[143  98 157 158  92]\n",
      "matching top 5 for node 11:\n",
      "[ 64 143  98 158  92]\n",
      "cos sim top 5 for node 21:\n",
      "[ 35 108  83  43   1]\n",
      "matching top 5 for node 21:\n",
      "[132  41 108 193 148]\n",
      "cos sim top 5 for node 51:\n",
      "[ 95 123 138 155  56]\n",
      "matching top 5 for node 51:\n",
      "[ 38  55  76 116 155]\n"
     ]
    }
   ],
   "source": [
    "show_list = [0, 10, 20, 50]\n",
    "top_k = 5\n",
    "for i in show_list:\n",
    "    print \"cos sim top %d for node %d:\" %(top_k, attributesA['Id'][i])\n",
    "    print attributesB['Id'][sim_matrix[i].argsort()[-top_k:]].values\n",
    "    print \"matching top %d for node %d:\"%(top_k, attributesA['Id'][i])\n",
    "    print attributesB['Id'][matching_matrix[i].argsort()[-top_k:]].values\n"
   ]
  },
  {
   "cell_type": "code",
   "execution_count": 8,
   "metadata": {
    "collapsed": false
   },
   "outputs": [
    {
     "name": "stdout",
     "output_type": "stream",
     "text": [
      "19\n",
      "19\n",
      "35\n"
     ]
    }
   ],
   "source": [
    "bandDeg = ['Degree','InDegree','OutDegree']\n",
    "bucketDeg = generateEuclideanBuckets(selectAndCombine(attributesA, attributesB, bandDeg), 2)\n",
    "with open('metadata/euc-buckets-band-1', 'w') as f:\n",
    "    for k, v in bucketDeg.items():\n",
    "        f.write(str(k) + str(v) + '\\n')\n",
    "print len(bucketDeg.items())\n",
    "\n",
    "bandEdge = ['NodeBetweennessCentrality','FarnessCentrality', 'NodeEccentricity']\n",
    "bucketEdge = generateEuclideanBuckets(selectAndCombine(attributesA, attributesB, bandEdge), 2)\n",
    "with open('metadata/euc-buckets-band-2', 'w') as f:\n",
    "    for k, v in bucketEdge.items():\n",
    "        f.write(str(k) + str(v) + '\\n')\n",
    "print len(bucketEdge.items())\n",
    "\n",
    "bandScore = ['PageRank', 'HubsScore', 'AuthoritiesScore']\n",
    "bucketScore = generateEuclideanBuckets(selectAndCombine(attributesA, attributesB, bandScore), 2)\n",
    "with open('metadata/euc-buckets-band-3', 'w') as f:\n",
    "    for k, v in bucketScore.items():\n",
    "        f.write(str(k) + str(v) + '\\n')\n",
    "print len(bucketScore.items())"
   ]
  },
  {
   "cell_type": "code",
   "execution_count": null,
   "metadata": {
    "collapsed": true
   },
   "outputs": [],
   "source": []
  },
  {
   "cell_type": "code",
   "execution_count": null,
   "metadata": {
    "collapsed": true
   },
   "outputs": [],
   "source": []
  }
 ],
 "metadata": {
  "anaconda-cloud": {},
  "kernelspec": {
   "display_name": "Python 2",
   "language": "python",
   "name": "python2"
  },
  "language_info": {
   "codemirror_mode": {
    "name": "ipython",
    "version": 2
   },
   "file_extension": ".py",
   "mimetype": "text/x-python",
   "name": "python",
   "nbconvert_exporter": "python",
   "pygments_lexer": "ipython2",
   "version": "2.7.12"
  }
 },
 "nbformat": 4,
 "nbformat_minor": 0
}
