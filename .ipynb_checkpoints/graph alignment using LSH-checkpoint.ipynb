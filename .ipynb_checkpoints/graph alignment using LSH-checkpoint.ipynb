{
 "cells": [
  {
   "cell_type": "code",
   "execution_count": 4,
   "metadata": {
    "collapsed": false
   },
   "outputs": [
    {
     "name": "stdout",
     "output_type": "stream",
     "text": [
      "[ 0.25        0.25        0.1875      0.2         0.25        0.33333333\n",
      "  0.25        0.25      ]\n",
      "[ 0.2         0.25        0.22222222  0.25        0.25        0.25        0.1875\n",
      "  0.25        0.33333333]\n",
      "(8, 8)\n"
     ]
    }
   ],
   "source": [
    "import numpy as np\n",
    "\n",
    "A = np.array([[0,0,2,0,0,0,0,0],\n",
    "              [0,0,3,0,0,0,0,0],\n",
    "              [0,0,0,4,0,0,0,0],\n",
    "              [0,0,0,0,5,1,8,0],\n",
    "              [0,0,0,0,0,0,0,0],\n",
    "              [0,0,0,0,0,0,2,0],\n",
    "              [0,0,0,0,0,0,0,5],\n",
    "              [0,0,0,0,0,0,0,0]\n",
    "             ])\n",
    "\n",
    "B = np.array([\n",
    "        [0,0,0,0,4,0,0,7,2],\n",
    "        [0,0,0,0,0,0,0,0,0],\n",
    "        [0,1,0,0,0,0,3,0,0],\n",
    "        [0,0,0,0,0,0,0,0,0],\n",
    "        [0,0,0,0,0,0,0,0,0],\n",
    "        [0,0,0,0,0,0,2,0,0],\n",
    "        [2,0,0,0,0,0,0,0,0],\n",
    "        [0,0,0,5,0,0,0,0,0],\n",
    "        [0,0,0,0,0,0,0,3,0]\n",
    "    ])\n",
    "\n",
    "A_in_w = np.sum(A, axis=0)\n",
    "A_out_w = np.sum(A, axis=1)\n",
    "B_in_w = np.sum(B, axis=0)\n",
    "B_out_w = np.sum(B, axis=1)\n",
    "\n",
    "A_in = np.sum(A>0, axis=0)\n",
    "A_out = np.sum(A>0, axis=1)\n",
    "B_in = np.sum(B>0, axis=0)\n",
    "B_out = np.sum(B>0, axis=1)\n",
    "\n",
    "# 0 => peripheral, 1 => bridge, 2 => center\n",
    "A_role = np.array([0,0,1,2,0,0,0,0])\n",
    "B_role = np.array([2,0,0,0,0,0,1,0,0])\n",
    "\n",
    "\n",
    "def ego_connectivity(G):\n",
    "    ego_conn = np.zeros((G.shape[0]))\n",
    "    for i in range(G.shape[0]):\n",
    "        ego_i = (G[i] | G.T[i])>0\n",
    "        ego_i[i] = True\n",
    "        ego_net = G[ego_i].T[ego_i]\n",
    "        ego_conn[i] = np.sum(ego_net > 0)/float(ego_net.shape[0]**2)\n",
    "    return ego_conn\n",
    "\n",
    "\n",
    "A_ego_conn = ego_connectivity(A);\n",
    "B_ego_conn = ego_connectivity(B);\n",
    "print(A_ego_conn)\n",
    "print(B_ego_conn)\n",
    "\n",
    "A_feature = np.array([A_in, A_out, A_in_w, A_out_w, A_ego_conn])\n",
    "print(A.shape)"
   ]
  },
  {
   "cell_type": "code",
   "execution_count": 1,
   "metadata": {
    "collapsed": false
   },
   "outputs": [
    {
     "name": "stdout",
     "output_type": "stream",
     "text": [
      "[ 0.  0.  0.  0.  0.  0.  0.  1.  0.  0.  0.  0.  0.  0.  1.  0.  0.  0.\n",
      "  0.  0.  0.  0.  0.  0.  0.  0.  0.  0.  0.  0.  0.  0.  0.  0.  1.  0.\n",
      "  0.  0.  0.  0.  0.  0.  0.  0.  0.  0.  0.  0.  0.  0.  1.  0.  0.  1.\n",
      "  0.  1.  0.  0.  0.  1.  0.  0.  0.  0.  0.  1.  0.  0.  0.  0.  0.  0.\n",
      "  0.  0.  0.  0.  0.  0.  1.  0.  0.  0.  0.  0.  0.  0.  0.  0.  0.  0.\n",
      "  0.  0.  1.  0.  0.  0.  0.  0.  0.  0.  0.  0.  0.  0.  0.  0.  0.  0.\n",
      "  0.  0.  0.  0.  0.  0.  0.  0.  0.  0.  0.  0.  0.  0.  0.  0.  0.  0.\n",
      "  0.  1.  0.  0.  0.  0.  0.  0.  0.  0.  0.  0.  1.  0.  0.  0.  0.  0.\n",
      "  0.  0.  0.  0.  0.  0.  0.  0.  0.  0.  0.  0.  0.  0.  0.  0.  0.  0.\n",
      "  0.  0.  0.  0.  0.  0.  0.  0.  0.  1.  0.  1.  0.  0.  0.  0.  0.  0.\n",
      "  0.  0.  0.  0.  0.  1.  0.  0.  0.  0.  0.  0.  0.  0.  0.  0.  0.  0.\n",
      "  0.  0.  0.  0.  0.  0.  0.  0.  0.  0.  0.  0.  1.  0.  0.  0.  0.  0.\n",
      "  0.  1.  0.  0.  0.  0.  0.  0.]\n"
     ]
    }
   ],
   "source": [
    "# produce graph A\n",
    "import numpy as np\n",
    "nodes = []\n",
    "with open('facebook/0.edges') as f:\n",
    "    for line in f:\n",
    "        pair = line.strip().split()\n",
    "        if int(pair[0]) == int(pair[1]):\n",
    "            print(\"hey\\n\")\n",
    "        nodes.append(int(pair[0]))\n",
    "        nodes.append(int(pair[1]))\n",
    "    \n",
    "A_size = max(nodes)+1\n",
    "A = np.zeros((A_size,A_size))\n",
    "\n",
    "for i in range(0,len(nodes)-2,2):\n",
    "    A[nodes[i]][nodes[i+1]]=1\n",
    "    A[nodes[i+1]][nodes[i]]=1\n",
    "    \n",
    "A[0,:]=1\n",
    "A[:,0]=1\n",
    "A[0,0]=0\n",
    "\n",
    "A_feats = np.zeros((A_size, 224))\n",
    "\n",
    "with open('facebook/0.feat') as f:\n",
    "    for line in f:\n",
    "        feats = line.strip().split()\n",
    "        A_feats[int(feats[0])] = feats[1:]\n",
    "        \n",
    "print(A_feats[3])"
   ]
  },
  {
   "cell_type": "code",
   "execution_count": 2,
   "metadata": {
    "collapsed": false
   },
   "outputs": [
    {
     "name": "stdout",
     "output_type": "stream",
     "text": [
      "noise edges: 0.0\n"
     ]
    }
   ],
   "source": [
    "# produce permuted B with noise\n",
    "perm = np.random.permutation(len(A))\n",
    "\n",
    "P = np.identity(len(A))\n",
    "P = P[perm]\n",
    "\n",
    "B = P.dot(A).dot(P.T)\n",
    "#noise = np.random.choice([0, 1], size=(len(A),len(A)), p=[99.95/100, 0.05/100])\n",
    "#B = (B + noise + noise.T)%2\n",
    "\n",
    "print(\"noise edges: \" + str(np.sum(np.abs(A-P.T.dot(B).dot(P))[:])))\n",
    "\n",
    "with open('B.edges', 'w') as f:\n",
    "    for i in range(len(B)):\n",
    "        for j in range(i+1, len(B)):\n",
    "            if B[i][j]>0:\n",
    "                f.write(str(i)+\" \"+str(j)+\"\\n\")"
   ]
  },
  {
   "cell_type": "code",
   "execution_count": 35,
   "metadata": {
    "collapsed": false
   },
   "outputs": [
    {
     "ename": "TypeError",
     "evalue": "expected a string or other character buffer object",
     "output_type": "error",
     "traceback": [
      "\u001b[0;31m---------------------------------------------------------------------------\u001b[0m",
      "\u001b[0;31mTypeError\u001b[0m                                 Traceback (most recent call last)",
      "\u001b[0;32m<ipython-input-35-a71e879f36c3>\u001b[0m in \u001b[0;36m<module>\u001b[0;34m()\u001b[0m\n\u001b[1;32m     82\u001b[0m \u001b[0mattributesA\u001b[0m \u001b[0;34m=\u001b[0m \u001b[0mgetAttribute\u001b[0m\u001b[0;34m(\u001b[0m\u001b[0;34m\"0.edges\"\u001b[0m\u001b[0;34m)\u001b[0m\u001b[0;34m\u001b[0m\u001b[0m\n\u001b[1;32m     83\u001b[0m \u001b[0;32mwith\u001b[0m \u001b[0mopen\u001b[0m\u001b[0;34m(\u001b[0m\u001b[0;34m'attributesA'\u001b[0m\u001b[0;34m,\u001b[0m \u001b[0;34m'w'\u001b[0m\u001b[0;34m)\u001b[0m \u001b[0;32mas\u001b[0m \u001b[0mf\u001b[0m\u001b[0;34m:\u001b[0m\u001b[0;34m\u001b[0m\u001b[0m\n\u001b[0;32m---> 84\u001b[0;31m     \u001b[0mf\u001b[0m\u001b[0;34m.\u001b[0m\u001b[0mwrite\u001b[0m\u001b[0;34m(\u001b[0m\u001b[0;34m(\u001b[0m\u001b[0mattributesA\u001b[0m\u001b[0;34m)\u001b[0m\u001b[0;34m)\u001b[0m\u001b[0;34m\u001b[0m\u001b[0m\n\u001b[0m\u001b[1;32m     85\u001b[0m \u001b[0;32mprint\u001b[0m \u001b[0mattributesA\u001b[0m\u001b[0;34m\u001b[0m\u001b[0m\n\u001b[1;32m     86\u001b[0m \u001b[0;34m\u001b[0m\u001b[0m\n",
      "\u001b[0;31mTypeError\u001b[0m: expected a string or other character buffer object"
     ]
    }
   ],
   "source": [
    "import snap\n",
    "import numpy as np\n",
    "import pandas as pd\n",
    "\n",
    "def getAttribute(filename):\n",
    "    UGraph = snap.LoadEdgeList(snap.PUNGraph, filename, 0, 1)\n",
    "    UGraph.Dump()\n",
    "\n",
    "    attributes = pd.DataFrame(np.zeros(shape=(UGraph.GetNodes(), 12)), \n",
    "                              columns=['Graph', 'Id', 'Degree', 'DegreeCentrality', 'NodeBetweennessCentrality', \n",
    "                                       'ClosenessCentrality', 'FarnessCentrality', 'PageRank', 'HubsScore', \n",
    "                                       'AuthoritiesScore', 'NodeEccentricity', 'EigenvectorCentrality'])\n",
    "    \n",
    "    attributes['Graph'] = [filename] * UGraph.GetNodes()\n",
    "    \n",
    "    # Degree\n",
    "    id = []\n",
    "    degree = []\n",
    "    OutDegV = snap.TIntPrV()\n",
    "    snap.GetNodeOutDegV(UGraph, OutDegV)\n",
    "    for item in OutDegV:\n",
    "        id.append(item.GetVal1())\n",
    "        degree.append(item.GetVal2())\n",
    "    attributes['Id'] = id\n",
    "    attributes['Degree'] = degree\n",
    "\n",
    "    # Degree, Closeness, Farness Centrality, Node Eccentricity\n",
    "    degCentr = []\n",
    "    cloCentr = []\n",
    "    farCentr = []\n",
    "    nodeEcc = []\n",
    "    for NI in UGraph.Nodes():\n",
    "        degCentr.append(snap.GetDegreeCentr(UGraph, NI.GetId()))\n",
    "        cloCentr.append(snap.GetClosenessCentr(UGraph, NI.GetId()))\n",
    "        farCentr.append(snap.GetFarnessCentr(UGraph, NI.GetId()))\n",
    "        nodeEcc.append(snap.GetNodeEcc(UGraph, NI.GetId(), False))\n",
    "    attributes['DegreeCentrality'] = degCentr\n",
    "    attributes['ClosenessCentrality'] = cloCentr\n",
    "    attributes['FarnessCentrality'] = farCentr\n",
    "    attributes['NodeEccentricity'] = nodeEcc\n",
    "\n",
    "    # Betweenness Centrality\n",
    "    betCentr = []\n",
    "    Nodes = snap.TIntFltH()\n",
    "    Edges = snap.TIntPrFltH()\n",
    "    snap.GetBetweennessCentr(UGraph, Nodes, Edges, 1.0)\n",
    "    for node in Nodes:\n",
    "        betCentr.append(Nodes[node])\n",
    "    attributes['NodeBetweennessCentrality'] = betCentr\n",
    "\n",
    "    # PageRank\n",
    "    pgRank = []\n",
    "    PRankH = snap.TIntFltH()\n",
    "    snap.GetPageRank(UGraph, PRankH)\n",
    "    for item in PRankH:\n",
    "        pgRank.append(PRankH[item])\n",
    "    attributes['PageRank'] = pgRank\n",
    "\n",
    "    # Hubs, Authorities score \n",
    "    hubs = []\n",
    "    auth = []\n",
    "    NIdHubH = snap.TIntFltH()\n",
    "    NIdAuthH = snap.TIntFltH()\n",
    "    snap.GetHits(UGraph, NIdHubH, NIdAuthH)\n",
    "    for item in NIdHubH:\n",
    "        hubs.append(NIdHubH[item])\n",
    "    for item in NIdAuthH:\n",
    "        auth.append(NIdAuthH[item])\n",
    "    attributes['HubsScore'] = hubs\n",
    "    attributes['AuthoritiesScore'] = auth\n",
    "\n",
    "    # Eigenvector Centrality\n",
    "    eigenCentr = []\n",
    "    NIdEigenH = snap.TIntFltH()\n",
    "    snap.GetEigenVectorCentr(UGraph, NIdEigenH)\n",
    "    for item in NIdEigenH:\n",
    "        eigenCentr.append(NIdEigenH[item])\n",
    "    attributes['EigenvectorCentrality'] = eigenCentr\n",
    "\n",
    "    return attributes\n",
    "\n",
    "attributesA = getAttribute(\"0.edges\")\n",
    "with open('attributesA', 'w') as f:\n",
    "    f.write(str(attributesA))\n",
    "print attributesA\n",
    "\n",
    "attributesB = getAttribute(\"B.edges\")\n",
    "with open('attributesB', 'w') as f:\n",
    "    f.write(str(attributesB))\n",
    "print attributesB"
   ]
  },
  {
   "cell_type": "code",
   "execution_count": 32,
   "metadata": {
    "collapsed": false
   },
   "outputs": [
    {
     "name": "stdout",
     "output_type": "stream",
     "text": [
      "10\n"
     ]
    }
   ],
   "source": [
    "import numpy as np\n",
    "from collections import defaultdict\n",
    "\n",
    "def generateBuckets(attributes, cols):\n",
    "    randMatrix = np.random.random((attributes.shape[1], cols))\n",
    "    #randMatrix = np.multiply(((randMatrix - 0.5) * 2).T, 1 / np.median(attributes, axis=0)).T\n",
    "    randMatrix = (randMatrix - 0.5) * 2\n",
    "    signMatrix = attributes.dot(randMatrix)\n",
    "    signMatrix[signMatrix > 0] = 1\n",
    "    signMatrix[signMatrix < 0] = 0\n",
    "    hashMatrix = signMatrix.dot([2**i for i in range(cols)])\n",
    "    dic = defaultdict(list)\n",
    "    for i in range(len(hashMatrix)):\n",
    "        dic[hashMatrix[i]].append(i)\n",
    "    return dic\n",
    "\n",
    "band1 = ['Degree','NodeBetweennessCentrality','FarnessCentrality','NodeEccentricity']\n",
    "band1 = np.vstack((attributesA[band1].as_matrix(), attributesB[band1].as_matrix()))\n",
    "with open('buckets-band-1', 'w') as f:\n",
    "    for k, v in generateBuckets(band1, 20).items():\n",
    "        f.write(str(k) + str(v) + '\\n')\n",
    "band2 = ['DegreeCentrality','ClosenessCentrality','PageRank', 'HubsScore','AuthoritiesScore','EigenvectorCentrality']\n",
    "band2 = np.vstack((attributesA[band2].as_matrix(), attributesB[band2].as_matrix()))\n",
    "print len(generateBuckets(band2, 20).items())"
   ]
  },
  {
   "cell_type": "code",
   "execution_count": 25,
   "metadata": {
    "collapsed": false
   },
   "outputs": [
    {
     "name": "stdout",
     "output_type": "stream",
     "text": [
      "[[1, 2, 3, 4], [2, 3, 4, 5]]\n",
      "True\n"
     ]
    }
   ],
   "source": [
    "a = [[1,2,3,4],[2,3,4,5]]\n",
    "print a\n",
    "print a > 3"
   ]
  },
  {
   "cell_type": "code",
   "execution_count": null,
   "metadata": {
    "collapsed": true
   },
   "outputs": [],
   "source": []
  },
  {
   "cell_type": "code",
   "execution_count": null,
   "metadata": {
    "collapsed": true
   },
   "outputs": [],
   "source": []
  }
 ],
 "metadata": {
  "anaconda-cloud": {},
  "kernelspec": {
   "display_name": "Python [py27]",
   "language": "python",
   "name": "Python [py27]"
  },
  "language_info": {
   "codemirror_mode": {
    "name": "ipython",
    "version": 2
   },
   "file_extension": ".py",
   "mimetype": "text/x-python",
   "name": "python",
   "nbconvert_exporter": "python",
   "pygments_lexer": "ipython2",
   "version": "2.7.12"
  }
 },
 "nbformat": 4,
 "nbformat_minor": 0
}
